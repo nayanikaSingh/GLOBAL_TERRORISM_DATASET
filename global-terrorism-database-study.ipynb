{
 "cells": [
  {
   "cell_type": "markdown",
   "metadata": {},
   "source": [
    "Please upvote if you find this helpful. Thank you. "
   ]
  },
  {
   "cell_type": "code",
   "execution_count": 1,
   "metadata": {
    "_cell_guid": "b1076dfc-b9ad-4769-8c92-a6c4dae69d19",
    "_uuid": "8f2839f25d086af736a60e9eeb907d3b93b6e0e5"
   },
   "outputs": [],
   "source": [
    "\n",
    "\n",
    "import numpy as np # linear algebra\n",
    "import pandas as pd # data processing, CSV file I/O (e.g. pd.read_csv)\n",
    "\n",
    "\n",
    "\n"
   ]
  },
  {
   "cell_type": "code",
   "execution_count": 2,
   "metadata": {
    "_cell_guid": "79c7e3d0-c299-4dcb-8224-4455121ee9b0",
    "_uuid": "d629ff2d2480ee46fbb7e2d37f6b5fab8052498a"
   },
   "outputs": [],
   "source": [
    "#importing the libraries needed for visualization\n",
    "import seaborn as sns\n",
    "import matplotlib.pyplot as plt\n",
    "%matplotlib inline\n",
    "import matplotlib.patches as mpatches\n",
    "from matplotlib import animation, rc"
   ]
  },
  {
   "cell_type": "code",
   "execution_count": 3,
   "metadata": {},
   "outputs": [],
   "source": [
    "plt.style.use('fivethirtyeight')"
   ]
  },
  {
   "cell_type": "code",
   "execution_count": 5,
   "metadata": {},
   "outputs": [
    {
     "data": {
      "text/html": [
       "        <script type=\"text/javascript\">\n",
       "        window.PlotlyConfig = {MathJaxConfig: 'local'};\n",
       "        if (window.MathJax) {MathJax.Hub.Config({SVG: {font: \"STIX-Web\"}});}\n",
       "        if (typeof require !== 'undefined') {\n",
       "        require.undef(\"plotly\");\n",
       "        requirejs.config({\n",
       "            paths: {\n",
       "                'plotly': ['https://cdn.plot.ly/plotly-latest.min']\n",
       "            }\n",
       "        });\n",
       "        require(['plotly'], function(Plotly) {\n",
       "            window._Plotly = Plotly;\n",
       "        });\n",
       "        }\n",
       "        </script>\n",
       "        "
      ]
     },
     "metadata": {},
     "output_type": "display_data"
    },
    {
     "ename": "ModuleNotFoundError",
     "evalue": "No module named 'mpl_toolkits.basemap'",
     "output_type": "error",
     "traceback": [
      "\u001b[1;31m---------------------------------------------------------------------------\u001b[0m",
      "\u001b[1;31mModuleNotFoundError\u001b[0m                       Traceback (most recent call last)",
      "\u001b[1;32m<ipython-input-5-aea1c9e141f7>\u001b[0m in \u001b[0;36m<module>\u001b[1;34m\u001b[0m\n\u001b[0;32m      5\u001b[0m \u001b[1;32mimport\u001b[0m \u001b[0mfolium\u001b[0m\u001b[1;33m\u001b[0m\u001b[1;33m\u001b[0m\u001b[0m\n\u001b[0;32m      6\u001b[0m \u001b[1;32mimport\u001b[0m \u001b[0mfolium\u001b[0m\u001b[1;33m.\u001b[0m\u001b[0mplugins\u001b[0m\u001b[1;33m\u001b[0m\u001b[1;33m\u001b[0m\u001b[0m\n\u001b[1;32m----> 7\u001b[1;33m \u001b[1;32mfrom\u001b[0m \u001b[0mmpl_toolkits\u001b[0m\u001b[1;33m.\u001b[0m\u001b[0mbasemap\u001b[0m \u001b[1;32mimport\u001b[0m \u001b[0mBasemap\u001b[0m\u001b[1;33m\u001b[0m\u001b[1;33m\u001b[0m\u001b[0m\n\u001b[0m\u001b[0;32m      8\u001b[0m \u001b[1;32mimport\u001b[0m \u001b[0mgeopandas\u001b[0m \u001b[1;32mas\u001b[0m \u001b[0mgpd\u001b[0m\u001b[1;33m\u001b[0m\u001b[1;33m\u001b[0m\u001b[0m\n",
      "\u001b[1;31mModuleNotFoundError\u001b[0m: No module named 'mpl_toolkits.basemap'"
     ]
    }
   ],
   "source": [
    "import plotly.offline as py\n",
    "py.init_notebook_mode(connected=True)\n",
    "import plotly.graph_objs as go\n",
    "import plotly.tools as tls\n",
    "import folium\n",
    "import folium.plugins\n",
    "from mpl_toolkits.basemap import Basemap\n",
    "import geopandas as gpd"
   ]
  },
  {
   "cell_type": "code",
   "execution_count": null,
   "metadata": {},
   "outputs": [],
   "source": [
    "!pip install -q scipy"
   ]
  },
  {
   "cell_type": "code",
   "execution_count": null,
   "metadata": {},
   "outputs": [],
   "source": [
    "import io\n",
    "import base64\n",
    "import codecs\n",
    "import warnings\n",
    "warnings.filterwarnings('ignore')\n",
    "from IPython.display import HTML, display\n"
   ]
  },
  {
   "cell_type": "markdown",
   "metadata": {},
   "source": [
    "Reading the data. "
   ]
  },
  {
   "cell_type": "code",
   "execution_count": null,
   "metadata": {},
   "outputs": [],
   "source": [
    "df = pd.read_csv('globalterrorismdb_0718dist.csv',encoding='ISO-8859-1')"
   ]
  },
  {
   "cell_type": "code",
   "execution_count": null,
   "metadata": {},
   "outputs": [],
   "source": [
    "df.head(10)"
   ]
  },
  {
   "cell_type": "code",
   "execution_count": null,
   "metadata": {},
   "outputs": [],
   "source": [
    "df.shape"
   ]
  },
  {
   "cell_type": "code",
   "execution_count": null,
   "metadata": {},
   "outputs": [],
   "source": [
    "df.describe()"
   ]
  },
  {
   "cell_type": "code",
   "execution_count": null,
   "metadata": {},
   "outputs": [],
   "source": [
    "df.columns"
   ]
  },
  {
   "cell_type": "code",
   "execution_count": null,
   "metadata": {},
   "outputs": [],
   "source": [
    "df['casualties']=df['nkill']+df['nwound']"
   ]
  },
  {
   "cell_type": "markdown",
   "metadata": {},
   "source": [
    "**Statistics about the data**"
   ]
  },
  {
   "cell_type": "code",
   "execution_count": null,
   "metadata": {},
   "outputs": [],
   "source": [
    "df['country_txt'].value_counts()"
   ]
  },
  {
   "cell_type": "code",
   "execution_count": null,
   "metadata": {},
   "outputs": [],
   "source": [
    "df['region_txt'].value_counts()"
   ]
  },
  {
   "cell_type": "code",
   "execution_count": null,
   "metadata": {},
   "outputs": [],
   "source": [
    "df['gname'].value_counts()"
   ]
  },
  {
   "cell_type": "code",
   "execution_count": null,
   "metadata": {},
   "outputs": [],
   "source": [
    "df['city'].value_counts()"
   ]
  },
  {
   "cell_type": "code",
   "execution_count": null,
   "metadata": {},
   "outputs": [],
   "source": [
    "df['attacktype1_txt'].value_counts()"
   ]
  },
  {
   "cell_type": "code",
   "execution_count": null,
   "metadata": {},
   "outputs": [],
   "source": [
    "df['targtype1_txt'].value_counts()"
   ]
  },
  {
   "cell_type": "code",
   "execution_count": null,
   "metadata": {},
   "outputs": [],
   "source": [
    "df['targsubtype1_txt'].value_counts()"
   ]
  },
  {
   "cell_type": "code",
   "execution_count": null,
   "metadata": {},
   "outputs": [],
   "source": [
    "print('Country with Highest Terrorist Attacks:',df['country_txt'].value_counts().index[0])\n",
    "print('Regions with Highest Terrorist Attacks:',df['region_txt'].value_counts().index[0])\n",
    "print('Maximum people killed in an attack are:',df['nkill'].max(),'that took place in',df.loc[df['nkill'].idxmax()].country_txt)"
   ]
  },
  {
   "cell_type": "code",
   "execution_count": null,
   "metadata": {},
   "outputs": [],
   "source": [
    "df['iyear'].value_counts()"
   ]
  },
  {
   "cell_type": "code",
   "execution_count": null,
   "metadata": {},
   "outputs": [],
   "source": [
    "df['natlty1_txt'].value_counts()"
   ]
  },
  {
   "cell_type": "code",
   "execution_count": null,
   "metadata": {},
   "outputs": [],
   "source": [
    "print(\"Nationality of the maximally targetted group is:\", df['natlty1_txt'].value_counts().index[0])"
   ]
  },
  {
   "cell_type": "markdown",
   "metadata": {},
   "source": [
    "**Plotting graphs, barcharts to understand it better**"
   ]
  },
  {
   "cell_type": "code",
   "execution_count": null,
   "metadata": {},
   "outputs": [],
   "source": [
    "plt.subplots(figsize=(15,8))\n",
    "sns.countplot('iyear',data=df,palette='RdYlGn_r',edgecolor=sns.color_palette('dark',7))\n",
    "plt.xticks(rotation=90)\n",
    "plt.xlabel('Year of attack')\n",
    "plt.title('Number Of Terrorist Activities Each Year')\n",
    "plt.show()"
   ]
  },
  {
   "cell_type": "code",
   "execution_count": null,
   "metadata": {},
   "outputs": [],
   "source": [
    "plt.subplots(figsize=(15,4))\n",
    "sns.countplot('attacktype1_txt',data=df,palette='inferno',order=df['attacktype1_txt'].value_counts().index)\n",
    "plt.xticks(rotation=90)\n",
    "plt.xlabel('Attack Type')\n",
    "plt.title('Attacking Methods by Terrorists')\n",
    "plt.show()"
   ]
  },
  {
   "cell_type": "code",
   "execution_count": null,
   "metadata": {},
   "outputs": [],
   "source": [
    "plt.subplots(figsize=(15,5))\n",
    "sns.countplot('targtype1_txt',data=df,palette='inferno',order=df['targtype1_txt'].value_counts().index)\n",
    "plt.xticks(rotation=90)\n",
    "plt.xlabel('Target Type')\n",
    "plt.title('Target by Terrorists')\n",
    "plt.show()"
   ]
  },
  {
   "cell_type": "code",
   "execution_count": null,
   "metadata": {},
   "outputs": [],
   "source": [
    "plt.subplots(figsize=(20,5))\n",
    "sns.countplot('targsubtype1_txt',data=df,palette='inferno',order=df['targsubtype1_txt'].value_counts().index)\n",
    "plt.xticks(rotation=90)\n",
    "plt.xlabel('Sub Target Type')\n",
    "plt.title('Sub Targets by Terrorists')\n",
    "plt.show()"
   ]
  },
  {
   "cell_type": "code",
   "execution_count": null,
   "metadata": {},
   "outputs": [],
   "source": [
    "print(\"The top sub targets of terrorists are:\", df['targsubtype1_txt'].value_counts().index[:5])"
   ]
  },
  {
   "cell_type": "code",
   "execution_count": null,
   "metadata": {},
   "outputs": [],
   "source": [
    "plt.subplots(figsize=(15,5))\n",
    "sns.countplot('region_txt',data=df,palette='inferno',order=df['region_txt'].value_counts().index)\n",
    "plt.xticks(rotation=90)\n",
    "plt.xlabel('Regions')\n",
    "plt.title('Number Of Terrorist Activities By Region')\n",
    "plt.show()"
   ]
  },
  {
   "cell_type": "code",
   "execution_count": null,
   "metadata": {},
   "outputs": [],
   "source": [
    "plt.subplots(figsize=(15,5))\n",
    "sns.countplot('country_txt',data=df,palette='inferno',order=df['country_txt'].value_counts()[:15].index)\n",
    "plt.xticks(rotation=90)\n",
    "plt.xlabel('Countries')\n",
    "plt.title('Number Of Terrorist Activities By Countries')\n",
    "plt.show()"
   ]
  },
  {
   "cell_type": "code",
   "execution_count": null,
   "metadata": {},
   "outputs": [],
   "source": [
    "df_region=pd.crosstab(df.iyear,df.region_txt)\n",
    "df_region.plot(color=sns.color_palette('Set2',12))\n",
    "fig=plt.gcf()\n",
    "fig.set_size_inches(13,6)\n",
    "plt.show()"
   ]
  },
  {
   "cell_type": "code",
   "execution_count": null,
   "metadata": {},
   "outputs": [],
   "source": [
    "df_region=pd.crosstab(df.iyear,df.targtype1_txt)\n",
    "df_region.plot(color=sns.color_palette('Set2',12))\n",
    "fig=plt.gcf()\n",
    "fig.set_size_inches(13,6)\n",
    "plt.show()"
   ]
  },
  {
   "cell_type": "code",
   "execution_count": null,
   "metadata": {},
   "outputs": [],
   "source": [
    "df['casualties'].sum()"
   ]
  },
  {
   "cell_type": "code",
   "execution_count": null,
   "metadata": {},
   "outputs": [],
   "source": [
    "df['nkill'].sum()"
   ]
  },
  {
   "cell_type": "code",
   "execution_count": null,
   "metadata": {},
   "outputs": [],
   "source": [
    "df['nwound'].sum()"
   ]
  },
  {
   "cell_type": "code",
   "execution_count": null,
   "metadata": {},
   "outputs": [],
   "source": [
    "df1=df.groupby('region_txt')['casualties'].sum()\n",
    "df2=df1.to_frame()\n",
    "df2.rename(columns = {\"\" : \"Casualties\"}, inplace = True)\n",
    "df2.insert(1,'Year',df.iyear,True)\n",
    "df2.reset_index()\n"
   ]
  },
  {
   "cell_type": "code",
   "execution_count": null,
   "metadata": {},
   "outputs": [],
   "source": [
    "df.groupby(['region_txt', 'iyear'])['casualties'].count()"
   ]
  },
  {
   "cell_type": "code",
   "execution_count": null,
   "metadata": {},
   "outputs": [],
   "source": [
    "plt.subplots(figsize=(18,8))\n",
    "df.groupby(['region_txt', 'iyear']).count()['casualties'].plot()\n",
    "#sns.countplot('country_txt',data=df,palette='inferno',order=df['country_txt'].value_counts()[:15].index)\n",
    "plt.xticks(rotation=90)\n",
    "#plt.xlabel('Countries')\n",
    "plt.ylabel(\"Casualties\")\n",
    "#plt.title('Number Of Terrorist Activities By Countries')\n",
    "#plt.show()"
   ]
  },
  {
   "cell_type": "code",
   "execution_count": null,
   "metadata": {},
   "outputs": [],
   "source": [
    "\n",
    "df.groupby(['region_txt', 'iyear']).count()['casualties'].unstack('region_txt').plot(figsize=(18,8))\n",
    "plt.xticks(rotation=90)\n",
    "\n",
    "plt.ylabel(\"Casualties\")"
   ]
  },
  {
   "cell_type": "code",
   "execution_count": null,
   "metadata": {},
   "outputs": [],
   "source": [
    "d=df.groupby(['region_txt', 'iyear'])['casualties'].sum()\n",
    "d"
   ]
  },
  {
   "cell_type": "code",
   "execution_count": null,
   "metadata": {},
   "outputs": [],
   "source": [
    "d=df.groupby(['iyear','region_txt'])['nkill'].sum()\n",
    "plot_df = d.unstack('region_txt').loc[:]\n",
    "plot_df.index = pd.PeriodIndex(plot_df.index.tolist(),freq='A')\n",
    "plot_df.plot(figsize=(15,8),color=sns.color_palette('Set2',12))\n",
    "plt.xlabel(\"Year\")\n",
    "plt.ylabel(\"Killed\")\n",
    "#ax.show()"
   ]
  },
  {
   "cell_type": "code",
   "execution_count": null,
   "metadata": {},
   "outputs": [],
   "source": [
    "d=df.groupby(['iyear','region_txt'])['nwound'].sum()\n",
    "plot_df = d.unstack('region_txt').loc[:]\n",
    "plot_df.index = pd.PeriodIndex(plot_df.index.tolist(),freq='A')\n",
    "plot_df.plot(figsize=(15,8),color=sns.color_palette('Set2',12))\n",
    "plt.xlabel(\"Year\")\n",
    "plt.ylabel(\"Wounded\")"
   ]
  },
  {
   "cell_type": "code",
   "execution_count": null,
   "metadata": {},
   "outputs": [],
   "source": [
    "d=df.groupby(['iyear','region_txt'])['casualties'].sum()\n",
    "plot_df = d.unstack('region_txt').loc[:]\n",
    "plot_df.index = pd.PeriodIndex(plot_df.index.tolist(),freq='A')\n",
    "plot_df.plot(figsize=(15,8),color=sns.color_palette('Set2',12))\n",
    "plt.xlabel(\"Year\")\n",
    "plt.ylabel(\"Casualties\")"
   ]
  },
  {
   "cell_type": "code",
   "execution_count": null,
   "metadata": {},
   "outputs": [],
   "source": [
    "count=df['country_txt'].value_counts()[:15].to_frame()\n",
    "count.columns=['Attacks']\n",
    "data=df.groupby('country_txt')['nkill'].sum().to_frame()\n",
    "count.merge(data,left_index=True,right_index=True,how='left').plot.bar(width=0.9)\n",
    "fig=plt.gcf()\n",
    "fig.set_size_inches(18,6)\n",
    "plt.show()"
   ]
  },
  {
   "cell_type": "code",
   "execution_count": null,
   "metadata": {},
   "outputs": [],
   "source": [
    "groups=df[df['gname'].isin(df['gname'].value_counts()[:14].index)]\n",
    "m = Basemap(projection='mill',llcrnrlat=-80,urcrnrlat=80, llcrnrlon=-180,urcrnrlon=180,lat_ts=20,resolution='c',lat_0=True,lat_1=True)\n",
    "m.drawcoastlines()\n",
    "m.drawcountries()\n",
    "m.fillcontinents(lake_color='aqua')\n",
    "m.drawmapboundary(fill_color='aqua')\n",
    "fig=plt.gcf()\n",
    "fig.set_size_inches(22,10)\n",
    "colors=['r','g','b','y','#800000','#ff1100','#8202fa','#20fad9','#ff5733','#fa02c6',\"#f99504\",'#b3b6b7','#8e44ad','#1a2b3c']\n",
    "group=list(groups['gname'].unique())\n",
    "def group_point(group,color,label):\n",
    "    lat_group=list(groups[groups['gname']==group].latitude)\n",
    "    long_group=list(groups[groups['gname']==group].longitude)\n",
    "    x_group,y_group=m(long_group,lat_group)\n",
    "    m.plot(x_group,y_group,'go',markersize=3,color=j,label=i)\n",
    "for i,j in zip(group,colors):\n",
    "    group_point(i,j,i)\n",
    "legend=plt.legend(loc='lower left',frameon=True,prop={'size':10})\n",
    "frame=legend.get_frame()\n",
    "frame.set_facecolor('white')\n",
    "plt.title('Terrorist Groups')\n",
    "plt.show()"
   ]
  },
  {
   "cell_type": "code",
   "execution_count": null,
   "metadata": {},
   "outputs": [],
   "source": [
    "groups=df[df['region_txt'].isin(df['region_txt'].value_counts()[:14].index)]\n",
    "m = Basemap(projection='mill',llcrnrlat=-80,urcrnrlat=80, llcrnrlon=-180,urcrnrlon=180,lat_ts=20,resolution='c',lat_0=True,lat_1=True)\n",
    "m.drawcoastlines()\n",
    "m.drawcountries()\n",
    "m.fillcontinents(lake_color='black')\n",
    "m.drawmapboundary(fill_color='white')\n",
    "fig=plt.gcf()\n",
    "fig.set_size_inches(22,10)\n",
    "colors=['r','g','b','y','#800000','#ff1100','#8202fa','#20fad9','#ff5733','#fa02c6',\"#f99504\",'#b3b6b7','#8e44ad','#1a2b3c']\n",
    "group=list(groups['region_txt'].unique())\n",
    "def group_point(group,color,label):\n",
    "    lat_group=list(groups[groups['region_txt']==group].latitude)\n",
    "    long_group=list(groups[groups['region_txt']==group].longitude)\n",
    "    x_group,y_group=m(long_group,lat_group)\n",
    "    m.plot(x_group,y_group,'go',markersize=3,color=j,label=i)\n",
    "for i,j in zip(group,colors):\n",
    "    group_point(i,j,i)\n",
    "legend=plt.legend(loc='lower left',frameon=True,prop={'size':14})\n",
    "frame=legend.get_frame()\n",
    "frame.set_facecolor('white')\n",
    "plt.title('Target areas of terrorist attacks')\n",
    "plt.show()"
   ]
  },
  {
   "cell_type": "code",
   "execution_count": null,
   "metadata": {},
   "outputs": [],
   "source": [
    "groups=df[df['country_txt'].isin(df['country_txt'].value_counts()[:14].index)]\n",
    "m = Basemap(projection='mill',llcrnrlat=-80,urcrnrlat=80, llcrnrlon=-180,urcrnrlon=180,lat_ts=20,resolution='c',lat_0=True,lat_1=True)\n",
    "m.drawcoastlines()\n",
    "m.drawcountries()\n",
    "m.fillcontinents(lake_color='black')\n",
    "m.drawmapboundary(fill_color='white')\n",
    "fig=plt.gcf()\n",
    "fig.set_size_inches(22,10)\n",
    "colors=['r','g','b','y','#800000','#ff1100','#8202fa','#20fad9','#ff5733','#fa02c6',\"#f99504\",'#b3b6b7','#8e44ad','#1a2b3c']\n",
    "group=list(groups['country_txt'].unique())\n",
    "def group_point(group,color,label):\n",
    "    lat_group=list(groups[groups['country_txt']==group].latitude)\n",
    "    long_group=list(groups[groups['country_txt']==group].longitude)\n",
    "    x_group,y_group=m(long_group,lat_group)\n",
    "    m.plot(x_group,y_group,'go',markersize=3,color=j,label=i)\n",
    "for i,j in zip(group,colors):\n",
    "    group_point(i,j,i)\n",
    "legend=plt.legend(loc='lower left',frameon=True,prop={'size':16})\n",
    "frame=legend.get_frame()\n",
    "frame.set_facecolor('white')\n",
    "plt.title('Target countries of terrorist attacks')\n",
    "plt.show()"
   ]
  },
  {
   "cell_type": "code",
   "execution_count": null,
   "metadata": {},
   "outputs": [],
   "source": [
    "fig = plt.figure(figsize = (10,6))\n",
    "def animate(Year):\n",
    "    ax = plt.axes()\n",
    "    ax.clear()\n",
    "    ax.set_title('Animation Of Terrorist Activities'+'\\n'+'Year:' +str(Year))\n",
    "    m6 = Basemap(projection='mill',llcrnrlat=-80,urcrnrlat=80, llcrnrlon=-180,urcrnrlon=180,lat_ts=20,resolution='c')\n",
    "    lat6=list(df[df['iyear']==Year].latitude)\n",
    "    long6=list(df[df['iyear']==Year].longitude)\n",
    "    x6,y6=m6(long6,lat6)\n",
    "    m6.scatter(x6, y6,s=[(kill+wound)*0.1 for kill,wound in zip(df[df['iyear']==Year].nkill,df[df['iyear']==Year].nwound)],color = 'r')\n",
    "    m6.drawcoastlines()\n",
    "    m6.drawcountries()\n",
    "    m6.fillcontinents(zorder = 1,alpha=0.4)\n",
    "    m6.drawmapboundary()\n",
    "ani = animation.FuncAnimation(fig,animate,list(df.iyear.unique()), interval = 1500)    \n",
    "ani.save('animation.gif', writer='imagemagick', fps=1)\n",
    "plt.close(1)\n",
    "filename = 'animation.gif'\n",
    "video = io.open(filename, 'r+b').read()\n",
    "encoded = base64.b64encode(video)\n",
    "HTML(data='''<img src=\"data:image/gif;base64,{0}\" type=\"gif\" />'''.format(encoded.decode('ascii')))"
   ]
  },
  {
   "cell_type": "code",
   "execution_count": null,
   "metadata": {},
   "outputs": [],
   "source": []
  }
 ],
 "metadata": {
  "kernelspec": {
   "display_name": "Python 3",
   "language": "python",
   "name": "python3"
  },
  "language_info": {
   "codemirror_mode": {
    "name": "ipython",
    "version": 3
   },
   "file_extension": ".py",
   "mimetype": "text/x-python",
   "name": "python",
   "nbconvert_exporter": "python",
   "pygments_lexer": "ipython3",
   "version": "3.9.4"
  }
 },
 "nbformat": 4,
 "nbformat_minor": 4
}
